{
 "cells": [
  {
   "cell_type": "code",
   "execution_count": 1,
   "metadata": {},
   "outputs": [],
   "source": [
    "import requests\n",
    "\n",
    "from bs4 import BeautifulSoup"
   ]
  },
  {
   "cell_type": "code",
   "execution_count": 8,
   "metadata": {},
   "outputs": [],
   "source": [
    "response = requests.get('https://api.sofascore.com/api/v1/event/10961722/statistics',\n",
    "                        headers={'User-Agent': 'Mozilla/5.0 (Windows NT 10.0; Win64; x64) AppleWebKit/537.36 (KHTML, like Gecko) Chrome/117.0.0.0 Safari/537.36'})"
   ]
  },
  {
   "cell_type": "code",
   "execution_count": 9,
   "metadata": {},
   "outputs": [
    {
     "data": {
      "text/plain": [
       "200"
      ]
     },
     "execution_count": 9,
     "metadata": {},
     "output_type": "execute_result"
    }
   ],
   "source": [
    "response.status_code"
   ]
  },
  {
   "cell_type": "code",
   "execution_count": 10,
   "metadata": {},
   "outputs": [
    {
     "data": {
      "text/plain": [
       "'{\"statistics\":[{\"period\":\"ALL\",\"groups\":[{\"groupName\":\"Expected\",\"statisticsItems\":[{\"name\":\"Expected goals\",\"home\":\"3.33\",\"away\":\"2.21\",\"compareCode\":1,\"statisticsType\":\"positive\",\"valueType\":\"event\",\"homeValue\":3.33,\"awayValue\":2.21}]},{\"groupName\":\"Possession\",\"statisticsItems\":[{\"name\":\"Ball possession\",\"home\":\"50%\",\"away\":\"50%\",\"compareCode\":3,\"statisticsType\":\"positive\",\"valueType\":\"event\",\"homeValue\":50,\"awayValue\":50}]},{\"groupName\":\"Shots\",\"statisticsItems\":[{\"name\":\"Total shots\",\"home\":\"22\",\"away\":\"12\",\"compareCode\":1,\"statisticsType\":\"positive\",\"valueType\":\"event\",\"homeValue\":22,\"awayValue\":12},{\"name\":\"Shots on target\",\"home\":\"7\",\"away\":\"4\",\"compareCode\":1,\"statisticsType\":\"positive\",\"valueType\":\"event\",\"homeValue\":7,\"awayValue\":4},{\"name\":\"Shots off target\",\"home\":\"10\",\"away\":\"6\",\"compareCode\":1,\"statisticsType\":\"negative\",\"valueType\":\"event\",\"homeValue\":10,\"awayValue\":6},{\"name\":\"Blocked shots\",\"home\":\"5\",\"away\":\"2\",\"compareCode\":1,\"statisticsType\":\"negative\",\"valueType\":\"event\",\"homeValue\":5,\"awayValue\":2}]},{\"groupName\":\"TVData\",\"statisticsItems\":[{\"name\":\"Corner kicks\",\"home\":\"5\",\"away\":\"0\",\"compareCode\":1,\"statisticsType\":\"positive\",\"valueType\":\"event\",\"homeValue\":5,\"awayValue\":0},{\"name\":\"Offsides\",\"home\":\"1\",\"away\":\"0\",\"compareCode\":1,\"statisticsType\":\"negative\",\"valueType\":\"event\",\"homeValue\":1,\"awayValue\":0},{\"name\":\"Fouls\",\"home\":\"12\",\"away\":\"11\",\"compareCode\":1,\"statisticsType\":\"negative\",\"valueType\":\"event\",\"homeValue\":12,\"awayValue\":11},{\"name\":\"Yellow cards\",\"home\":\"3\",\"away\":\"5\",\"compareCode\":2,\"statisticsType\":\"negative\",\"valueType\":\"event\",\"homeValue\":3,\"awayValue\":5},{\"name\":\"Free kicks\",\"home\":\"8\",\"away\":\"12\",\"compareCode\":2,\"statisticsType\":\"positive\",\"valueType\":\"event\",\"homeValue\":8,\"awayValue\":12},{\"name\":\"Throw-ins\",\"home\":\"22\",\"away\":\"30\",\"compareCode\":2,\"statisticsType\":\"positive\",\"valueType\":\"event\",\"homeValue\":22,\"awayValue\":30},{\"name\":\"Goal kicks\",\"home\":\"11\",\"away\":\"16\",\"compareCode\":2,\"statisticsType\":\"positive\",\"valueType\":\"event\",\"homeValue\":11,\"awayValue\":16}]},{\"groupName\":\"Shots extra\",\"statisticsItems\":[{\"name\":\"Big chances\",\"home\":\"4\",\"away\":\"3\",\"compareCode\":1,\"statisticsType\":\"positive\",\"valueType\":\"event\",\"homeValue\":4,\"awayValue\":3},{\"name\":\"Big chances missed\",\"home\":\"4\",\"away\":\"1\",\"compareCode\":1,\"statisticsType\":\"negative\",\"valueType\":\"event\",\"homeValue\":4,\"awayValue\":1},{\"name\":\"Hit woodwork\",\"home\":\"2\",\"away\":\"0\",\"compareCode\":1,\"statisticsType\":\"negative\",\"valueType\":\"event\",\"homeValue\":2,\"awayValue\":0},{\"name\":\"Shots inside box\",\"home\":\"17\",\"away\":\"7\",\"compareCode\":1,\"statisticsType\":\"positive\",\"valueType\":\"event\",\"homeValue\":17,\"awayValue\":7},{\"name\":\"Shots outside box\",\"home\":\"5\",\"away\":\"5\",\"compareCode\":3,\"statisticsType\":\"positive\",\"valueType\":\"event\",\"homeValue\":5,\"awayValue\":5},{\"name\":\"Goalkeeper saves\",\"home\":\"1\",\"away\":\"3\",\"compareCode\":2,\"statisticsType\":\"positive\",\"valueType\":\"event\",\"homeValue\":1,\"awayValue\":3}]},{\"groupName\":\"Passes\",\"statisticsItems\":[{\"name\":\"Passes\",\"home\":\"360\",\"away\":\"377\",\"compareCode\":2,\"statisticsType\":\"positive\",\"valueType\":\"event\",\"homeValue\":360,\"awayValue\":377},{\"name\":\"Accurate passes\",\"home\":\"285 (79%)\",\"away\":\"306 (81%)\",\"compareCode\":2,\"statisticsType\":\"positive\",\"valueType\":\"event\",\"homeValue\":285,\"awayValue\":306},{\"name\":\"Long balls\",\"home\":\"31\\\\/63 (49%)\",\"away\":\"28\\\\/55 (51%)\",\"compareCode\":2,\"statisticsType\":\"positive\",\"valueType\":\"team\",\"homeValue\":31,\"awayValue\":28,\"homeTotal\":63,\"awayTotal\":55},{\"name\":\"Crosses\",\"home\":\"7\\\\/24 (29%)\",\"away\":\"2\\\\/14 (14%)\",\"compareCode\":1,\"statisticsType\":\"positive\",\"valueType\":\"team\",\"homeValue\":7,\"awayValue\":2,\"homeTotal\":24,\"awayTotal\":14}]},{\"groupName\":\"Duels\",\"statisticsItems\":[{\"name\":\"Dribbles\",\"home\":\"10\\\\/13 (77%)\",\"away\":\"11\\\\/17 (65%)\",\"compareCode\":1,\"statisticsType\":\"positive\",\"valueType\":\"team\",\"homeValue\":10,\"awayValue\":11,\"homeTotal\":13,\"awayTotal\":17},{\"name\":\"Possession lost\",\"home\":\"121\",\"away\":\"114\",\"compareCode\":1,\"statisticsType\":\"negative\",\"valueType\":\"event\",\"homeValue\":121,\"awayValue\":114},{\"name\":\"Duels won\",\"home\":\"38\",\"away\":\"42\",\"compareCode\":2,\"statisticsType\":\"positive\",\"valueType\":\"event\",\"homeValue\":38,\"awayValue\":42},{\"name\":\"Aerials won\",\"home\":\"10\",\"away\":\"8\",\"compareCode\":1,\"statisticsType\":\"positive\",\"valueType\":\"event\",\"homeValue\":10,\"awayValue\":8}]},{\"groupName\":\"Defending\",\"statisticsItems\":[{\"name\":\"Tackles\",\"home\":\"10\",\"away\":\"11\",\"compareCode\":2,\"statisticsType\":\"positive\",\"valueType\":\"event\",\"homeValue\":10,\"awayValue\":11},{\"name\":\"Interceptions\",\"home\":\"8\",\"away\":\"11\",\"compareCode\":2,\"statisticsType\":\"positive\",\"valueType\":\"event\",\"homeValue\":8,\"awayValue\":11},{\"name\":\"Clearances\",\"home\":\"8\",\"away\":\"21\",\"compareCode\":2,\"statisticsType\":\"positive\",\"valueType\":\"event\",\"homeValue\":8,\"awayValue\":21}]}]},{\"period\":\"1ST\",\"groups\":[{\"groupName\":\"Possession\",\"statisticsItems\":[{\"name\":\"Ball possession\",\"home\":\"41%\",\"away\":\"59%\",\"compareCode\":2,\"statisticsType\":\"positive\",\"valueType\":\"event\",\"homeValue\":41,\"awayValue\":59}]},{\"groupName\":\"Shots\",\"statisticsItems\":[{\"name\":\"Total shots\",\"home\":\"6\",\"away\":\"4\",\"compareCode\":1,\"statisticsType\":\"positive\",\"valueType\":\"event\",\"homeValue\":6,\"awayValue\":4},{\"name\":\"Shots on target\",\"home\":\"2\",\"away\":\"1\",\"compareCode\":1,\"statisticsType\":\"positive\",\"valueType\":\"event\",\"homeValue\":2,\"awayValue\":1},{\"name\":\"Shots off target\",\"home\":\"3\",\"away\":\"2\",\"compareCode\":1,\"statisticsType\":\"negative\",\"valueType\":\"event\",\"homeValue\":3,\"awayValue\":2},{\"name\":\"Blocked shots\",\"home\":\"1\",\"away\":\"1\",\"compareCode\":3,\"statisticsType\":\"negative\",\"valueType\":\"event\",\"homeValue\":1,\"awayValue\":1}]},{\"groupName\":\"TVData\",\"statisticsItems\":[{\"name\":\"Corner kicks\",\"home\":\"2\",\"away\":\"0\",\"compareCode\":1,\"statisticsType\":\"positive\",\"valueType\":\"event\",\"homeValue\":2,\"awayValue\":0},{\"name\":\"Offsides\",\"home\":\"0\",\"away\":\"0\",\"compareCode\":3,\"statisticsType\":\"negative\",\"valueType\":\"event\",\"homeValue\":0,\"awayValue\":0},{\"name\":\"Yellow cards\",\"home\":\"2\",\"away\":\"3\",\"compareCode\":2,\"statisticsType\":\"negative\",\"valueType\":\"event\",\"homeValue\":2,\"awayValue\":3},{\"name\":\"Free kicks\",\"home\":\"5\",\"away\":\"5\",\"compareCode\":3,\"statisticsType\":\"positive\",\"valueType\":\"event\",\"homeValue\":5,\"awayValue\":5},{\"name\":\"Throw-ins\",\"home\":\"15\",\"away\":\"17\",\"compareCode\":2,\"statisticsType\":\"positive\",\"valueType\":\"event\",\"homeValue\":15,\"awayValue\":17},{\"name\":\"Goal kicks\",\"home\":\"4\",\"away\":\"7\",\"compareCode\":2,\"statisticsType\":\"positive\",\"valueType\":\"event\",\"homeValue\":4,\"awayValue\":7}]},{\"groupName\":\"Shots extra\",\"statisticsItems\":[{\"name\":\"Big chances\",\"home\":\"3\",\"away\":\"1\",\"compareCode\":1,\"statisticsType\":\"positive\",\"valueType\":\"event\",\"homeValue\":3,\"awayValue\":1},{\"name\":\"Big chances missed\",\"home\":\"3\",\"away\":\"0\",\"compareCode\":1,\"statisticsType\":\"negative\",\"valueType\":\"event\",\"homeValue\":3,\"awayValue\":0},{\"name\":\"Hit woodwork\",\"home\":\"0\",\"away\":\"0\",\"compareCode\":3,\"statisticsType\":\"negative\",\"valueType\":\"event\",\"homeValue\":0,\"awayValue\":0},{\"name\":\"Shots inside box\",\"home\":\"3\",\"away\":\"3\",\"compareCode\":3,\"statisticsType\":\"positive\",\"valueType\":\"event\",\"homeValue\":3,\"awayValue\":3},{\"name\":\"Shots outside box\",\"home\":\"3\",\"away\":\"1\",\"compareCode\":1,\"statisticsType\":\"positive\",\"valueType\":\"event\",\"homeValue\":3,\"awayValue\":1},{\"name\":\"Goalkeeper saves\",\"home\":\"0\",\"away\":\"0\",\"compareCode\":3,\"statisticsType\":\"positive\",\"valueType\":\"event\",\"homeValue\":0,\"awayValue\":0}]},{\"groupName\":\"Passes\",\"statisticsItems\":[{\"name\":\"Passes\",\"home\":\"154\",\"away\":\"220\",\"compareCode\":2,\"statisticsType\":\"positive\",\"valueType\":\"event\",\"homeValue\":154,\"awayValue\":220},{\"name\":\"Accurate passes\",\"home\":\"116 (75%)\",\"away\":\"186 (85%)\",\"compareCode\":2,\"statisticsType\":\"positive\",\"valueType\":\"event\",\"homeValue\":116,\"awayValue\":186},{\"name\":\"Long balls\",\"home\":\"10\\\\/27 (37%)\",\"away\":\"9\\\\/26 (35%)\",\"compareCode\":1,\"statisticsType\":\"positive\",\"valueType\":\"team\",\"homeValue\":10,\"awayValue\":9,\"homeTotal\":27,\"awayTotal\":26},{\"name\":\"Crosses\",\"home\":\"4\\\\/7 (57%)\",\"away\":\"2\\\\/6 (33%)\",\"compareCode\":1,\"statisticsType\":\"positive\",\"valueType\":\"team\",\"homeValue\":4,\"awayValue\":2,\"homeTotal\":7,\"awayTotal\":6}]},{\"groupName\":\"Duels\",\"statisticsItems\":[{\"name\":\"Dribbles\",\"home\":\"7\\\\/8 (88%)\",\"away\":\"5\\\\/8 (63%)\",\"compareCode\":1,\"statisticsType\":\"positive\",\"valueType\":\"team\",\"homeValue\":7,\"awayValue\":5,\"homeTotal\":8,\"awayTotal\":8},{\"name\":\"Possession lost\",\"home\":\"59\",\"away\":\"54\",\"compareCode\":1,\"statisticsType\":\"negative\",\"valueType\":\"event\",\"homeValue\":59,\"awayValue\":54},{\"name\":\"Duels won\",\"home\":\"23\",\"away\":\"22\",\"compareCode\":1,\"statisticsType\":\"positive\",\"valueType\":\"event\",\"homeValue\":23,\"awayValue\":22},{\"name\":\"Aerials won\",\"home\":\"6\",\"away\":\"4\",\"compareCode\":1,\"statisticsType\":\"positive\",\"valueType\":\"event\",\"homeValue\":6,\"awayValue\":4}]},{\"groupName\":\"Defending\",\"statisticsItems\":[{\"name\":\"Tackles\",\"home\":\"5\",\"away\":\"8\",\"compareCode\":2,\"statisticsType\":\"positive\",\"valueType\":\"event\",\"homeValue\":5,\"awayValue\":8},{\"name\":\"Interceptions\",\"home\":\"5\",\"away\":\"5\",\"compareCode\":3,\"statisticsType\":\"positive\",\"valueType\":\"event\",\"homeValue\":5,\"awayValue\":5},{\"name\":\"Clearances\",\"home\":\"3\",\"away\":\"4\",\"compareCode\":2,\"statisticsType\":\"positive\",\"valueType\":\"event\",\"homeValue\":3,\"awayValue\":4}]}]},{\"period\":\"2ND\",\"groups\":[{\"groupName\":\"Possession\",\"statisticsItems\":[{\"name\":\"Ball possession\",\"home\":\"58%\",\"away\":\"42%\",\"compareCode\":1,\"statisticsType\":\"positive\",\"valueType\":\"event\",\"homeValue\":58,\"awayValue\":42}]},{\"groupName\":\"Shots\",\"statisticsItems\":[{\"name\":\"Total shots\",\"home\":\"16\",\"away\":\"8\",\"compareCode\":1,\"statisticsType\":\"positive\",\"valueType\":\"event\",\"homeValue\":16,\"awayValue\":8},{\"name\":\"Shots on target\",\"home\":\"5\",\"away\":\"3\",\"compareCode\":1,\"statisticsType\":\"positive\",\"valueType\":\"event\",\"homeValue\":5,\"awayValue\":3},{\"name\":\"Shots off target\",\"home\":\"7\",\"away\":\"4\",\"compareCode\":1,\"statisticsType\":\"negative\",\"valueType\":\"event\",\"homeValue\":7,\"awayValue\":4},{\"name\":\"Blocked shots\",\"home\":\"4\",\"away\":\"1\",\"compareCode\":1,\"statisticsType\":\"negative\",\"valueType\":\"event\",\"homeValue\":4,\"awayValue\":1}]},{\"groupName\":\"TVData\",\"statisticsItems\":[{\"name\":\"Corner kicks\",\"home\":\"3\",\"away\":\"0\",\"compareCode\":1,\"statisticsType\":\"positive\",\"valueType\":\"event\",\"homeValue\":3,\"awayValue\":0},{\"name\":\"Offsides\",\"home\":\"1\",\"away\":\"0\",\"compareCode\":1,\"statisticsType\":\"negative\",\"valueType\":\"event\",\"homeValue\":1,\"awayValue\":0},{\"name\":\"Yellow cards\",\"home\":\"1\",\"away\":\"2\",\"compareCode\":2,\"statisticsType\":\"negative\",\"valueType\":\"event\",\"homeValue\":1,\"awayValue\":2},{\"name\":\"Free kicks\",\"home\":\"3\",\"away\":\"7\",\"compareCode\":2,\"statisticsType\":\"positive\",\"valueType\":\"event\",\"homeValue\":3,\"awayValue\":7},{\"name\":\"Throw-ins\",\"home\":\"7\",\"away\":\"13\",\"compareCode\":2,\"statisticsType\":\"positive\",\"valueType\":\"event\",\"homeValue\":7,\"awayValue\":13},{\"name\":\"Goal kicks\",\"home\":\"7\",\"away\":\"9\",\"compareCode\":2,\"statisticsType\":\"positive\",\"valueType\":\"event\",\"homeValue\":7,\"awayValue\":9}]},{\"groupName\":\"Shots extra\",\"statisticsItems\":[{\"name\":\"Big chances\",\"home\":\"1\",\"away\":\"2\",\"compareCode\":2,\"statisticsType\":\"positive\",\"valueType\":\"event\",\"homeValue\":1,\"awayValue\":2},{\"name\":\"Big chances missed\",\"home\":\"1\",\"away\":\"1\",\"compareCode\":3,\"statisticsType\":\"negative\",\"valueType\":\"event\",\"homeValue\":1,\"awayValue\":1},{\"name\":\"Hit woodwork\",\"home\":\"2\",\"away\":\"0\",\"compareCode\":1,\"statisticsType\":\"negative\",\"valueType\":\"event\",\"homeValue\":2,\"awayValue\":0},{\"name\":\"Shots inside box\",\"home\":\"14\",\"away\":\"4\",\"compareCode\":1,\"statisticsType\":\"positive\",\"valueType\":\"event\",\"homeValue\":14,\"awayValue\":4},{\"name\":\"Shots outside box\",\"home\":\"2\",\"away\":\"4\",\"compareCode\":2,\"statisticsType\":\"positive\",\"valueType\":\"event\",\"homeValue\":2,\"awayValue\":4},{\"name\":\"Goalkeeper saves\",\"home\":\"1\",\"away\":\"3\",\"compareCode\":2,\"statisticsType\":\"positive\",\"valueType\":\"event\",\"homeValue\":1,\"awayValue\":3}]},{\"groupName\":\"Passes\",\"statisticsItems\":[{\"name\":\"Passes\",\"home\":\"206\",\"away\":\"157\",\"compareCode\":1,\"statisticsType\":\"positive\",\"valueType\":\"event\",\"homeValue\":206,\"awayValue\":157},{\"name\":\"Accurate passes\",\"home\":\"169 (82%)\",\"away\":\"120 (76%)\",\"compareCode\":1,\"statisticsType\":\"positive\",\"valueType\":\"event\",\"homeValue\":169,\"awayValue\":120},{\"name\":\"Long balls\",\"home\":\"21\\\\/36 (58%)\",\"away\":\"19\\\\/29 (66%)\",\"compareCode\":2,\"statisticsType\":\"positive\",\"valueType\":\"team\",\"homeValue\":21,\"awayValue\":19,\"homeTotal\":36,\"awayTotal\":29},{\"name\":\"Crosses\",\"home\":\"3\\\\/17 (18%)\",\"away\":\"0\\\\/8 (0%)\",\"compareCode\":1,\"statisticsType\":\"positive\",\"valueType\":\"team\",\"homeValue\":3,\"awayValue\":0,\"homeTotal\":17,\"awayTotal\":8}]},{\"groupName\":\"Duels\",\"statisticsItems\":[{\"name\":\"Dribbles\",\"home\":\"3\\\\/5 (60%)\",\"away\":\"6\\\\/9 (67%)\",\"compareCode\":2,\"statisticsType\":\"positive\",\"valueType\":\"team\",\"homeValue\":3,\"awayValue\":6,\"homeTotal\":5,\"awayTotal\":9},{\"name\":\"Possession lost\",\"home\":\"62\",\"away\":\"60\",\"compareCode\":1,\"statisticsType\":\"negative\",\"valueType\":\"event\",\"homeValue\":62,\"awayValue\":60},{\"name\":\"Duels won\",\"home\":\"15\",\"away\":\"20\",\"compareCode\":2,\"statisticsType\":\"positive\",\"valueType\":\"event\",\"homeValue\":15,\"awayValue\":20},{\"name\":\"Aerials won\",\"home\":\"4\",\"away\":\"4\",\"compareCode\":3,\"statisticsType\":\"positive\",\"valueType\":\"event\",\"homeValue\":4,\"awayValue\":4}]},{\"groupName\":\"Defending\",\"statisticsItems\":[{\"name\":\"Tackles\",\"home\":\"5\",\"away\":\"3\",\"compareCode\":1,\"statisticsType\":\"positive\",\"valueType\":\"event\",\"homeValue\":5,\"awayValue\":3},{\"name\":\"Interceptions\",\"home\":\"3\",\"away\":\"6\",\"compareCode\":2,\"statisticsType\":\"positive\",\"valueType\":\"event\",\"homeValue\":3,\"awayValue\":6},{\"name\":\"Clearances\",\"home\":\"5\",\"away\":\"17\",\"compareCode\":2,\"statisticsType\":\"positive\",\"valueType\":\"event\",\"homeValue\":5,\"awayValue\":17}]}]}]}'"
      ]
     },
     "execution_count": 10,
     "metadata": {},
     "output_type": "execute_result"
    }
   ],
   "source": [
    "response.text"
   ]
  },
  {
   "cell_type": "code",
   "execution_count": null,
   "metadata": {},
   "outputs": [],
   "source": []
  }
 ],
 "metadata": {
  "kernelspec": {
   "display_name": "Python 3",
   "language": "python",
   "name": "python3"
  },
  "language_info": {
   "codemirror_mode": {
    "name": "ipython",
    "version": 3
   },
   "file_extension": ".py",
   "mimetype": "text/x-python",
   "name": "python",
   "nbconvert_exporter": "python",
   "pygments_lexer": "ipython3",
   "version": "3.10.12"
  },
  "orig_nbformat": 4
 },
 "nbformat": 4,
 "nbformat_minor": 2
}
